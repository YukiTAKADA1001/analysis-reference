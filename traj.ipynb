{
 "cells": [
  {
   "cell_type": "code",
   "execution_count": 77,
   "metadata": {},
   "outputs": [],
   "source": [
    "import random\n",
    "\n",
    "import MDAnalysis as mda\n",
    "import MDAnalysis.analysis.align"
   ]
  },
  {
   "cell_type": "code",
   "execution_count": 78,
   "metadata": {},
   "outputs": [],
   "source": [
    "TOP_PATH = '../prmtop'\n",
    "TRAJ_PATH = 'mdcrd.310.nc'"
   ]
  },
  {
   "cell_type": "code",
   "execution_count": 79,
   "metadata": {},
   "outputs": [],
   "source": [
    "universe = mda.Universe(TOP_PATH, TRAJ_PATH, topology_format='PARM7')\n",
    "n_frames = universe.trajectory.n_frames"
   ]
  },
  {
   "cell_type": "code",
   "execution_count": 80,
   "metadata": {},
   "outputs": [],
   "source": [
    "for i in range(2):\n",
    "    frame = random.randint(0, n_frames - 1)\n",
    "    with mda.Writer(f\"sample{i}.pdb\") as pdb:\n",
    "        for ts in universe.trajectory[frame:frame+1]:\n",
    "            pdb.write(universe)"
   ]
  }
 ],
 "metadata": {
  "kernelspec": {
   "display_name": "Python 3",
   "language": "python",
   "name": "python3"
  },
  "language_info": {
   "codemirror_mode": {
    "name": "ipython",
    "version": 3
   },
   "file_extension": ".py",
   "mimetype": "text/x-python",
   "name": "python",
   "nbconvert_exporter": "python",
   "pygments_lexer": "ipython3",
   "version": "3.7.6"
  }
 },
 "nbformat": 4,
 "nbformat_minor": 4
}
