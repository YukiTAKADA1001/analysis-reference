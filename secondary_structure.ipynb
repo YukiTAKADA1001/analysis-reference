{
 "cells": [
  {
   "cell_type": "code",
   "execution_count": 1,
   "metadata": {},
   "outputs": [],
   "source": [
    "import matplotlib\n",
    "import matplotlib.pyplot as plt\n",
    "import mdtraj as md\n",
    "import numpy as np\n",
    "import pandas as pd\n",
    "import seaborn as sns"
   ]
  },
  {
   "cell_type": "code",
   "execution_count": 85,
   "metadata": {},
   "outputs": [],
   "source": [
    "sns.set()"
   ]
  },
  {
   "cell_type": "code",
   "execution_count": 2,
   "metadata": {},
   "outputs": [
    {
     "data": {
      "text/plain": [
       "<mdtraj.Topology with 1 chains, 42 residues, 630 atoms, 636 bonds at 0x7f2663db2550>"
      ]
     },
     "execution_count": 2,
     "metadata": {},
     "output_type": "execute_result"
    }
   ],
   "source": [
    "topology = md.load_prmtop('prmtop.parm7')\n",
    "topology"
   ]
  },
  {
   "cell_type": "code",
   "execution_count": 3,
   "metadata": {},
   "outputs": [
    {
     "data": {
      "text/plain": [
       "<mdtraj.Trajectory with 25000 frames, 630 atoms, 42 residues, without unitcells at 0x7f2663bec290>"
      ]
     },
     "execution_count": 3,
     "metadata": {},
     "output_type": "execute_result"
    }
   ],
   "source": [
    "trajectory = md.load_netcdf('mdcrd.310.nc', top=topology)\n",
    "trajectory"
   ]
  },
  {
   "cell_type": "code",
   "execution_count": 4,
   "metadata": {},
   "outputs": [
    {
     "data": {
      "text/plain": [
       "array([[' ', ' ', 'T', ..., 'S', ' ', ' '],\n",
       "       [' ', ' ', 'G', ..., 'T', 'T', ' '],\n",
       "       [' ', ' ', 'G', ..., 'G', 'G', ' '],\n",
       "       ...,\n",
       "       [' ', ' ', 'H', ..., 'T', 'T', ' '],\n",
       "       [' ', 'H', 'H', ..., 'T', 'T', ' '],\n",
       "       [' ', 'H', 'H', ..., 'T', 'T', ' ']], dtype='<U2')"
      ]
     },
     "execution_count": 4,
     "metadata": {},
     "output_type": "execute_result"
    }
   ],
   "source": [
    "dssp = md.compute_dssp(trajectory, simplified=False)\n",
    "dssp"
   ]
  },
  {
   "cell_type": "code",
   "execution_count": 5,
   "metadata": {},
   "outputs": [
    {
     "name": "stdout",
     "output_type": "stream",
     "text": [
      "(25000, 42)\n"
     ]
    }
   ],
   "source": [
    "print(dssp.shape)"
   ]
  },
  {
   "cell_type": "code",
   "execution_count": 6,
   "metadata": {},
   "outputs": [
    {
     "name": "stdout",
     "output_type": "stream",
     "text": [
      "H 0.3496542857142857\n",
      "B 0.009241904761904762\n",
      "E 0.01728\n",
      "G 0.11388\n",
      "I 0.012429523809523809\n",
      "T 0.20192\n",
      "S 0.08765714285714286\n",
      "  0.20793714285714285\n"
     ]
    }
   ],
   "source": [
    "# structures = ['H', 'B', 'E', 'G', 'I', 'T', 'S', ' ']\n",
    "# for structure in structures:\n",
    "#     count = np.count_nonzero(dssp.flatten() == structure)\n",
    "#     print(structure, count/dssp.flatten().size)"
   ]
  },
  {
   "cell_type": "markdown",
   "metadata": {},
   "source": [
    "## Jackknife法による誤差評価"
   ]
  },
  {
   "cell_type": "code",
   "execution_count": 10,
   "metadata": {},
   "outputs": [
    {
     "data": {
      "text/plain": [
       "25000"
      ]
     },
     "execution_count": 10,
     "metadata": {},
     "output_type": "execute_result"
    }
   ],
   "source": [
    "trajectory.n_frames"
   ]
  },
  {
   "cell_type": "code",
   "execution_count": 39,
   "metadata": {},
   "outputs": [
    {
     "data": {
      "text/html": [
       "<div>\n",
       "<style scoped>\n",
       "    .dataframe tbody tr th:only-of-type {\n",
       "        vertical-align: middle;\n",
       "    }\n",
       "\n",
       "    .dataframe tbody tr th {\n",
       "        vertical-align: top;\n",
       "    }\n",
       "\n",
       "    .dataframe thead th {\n",
       "        text-align: right;\n",
       "    }\n",
       "</style>\n",
       "<table border=\"1\" class=\"dataframe\">\n",
       "  <thead>\n",
       "    <tr style=\"text-align: right;\">\n",
       "      <th></th>\n",
       "      <th>H</th>\n",
       "      <th>B</th>\n",
       "      <th>E</th>\n",
       "      <th>G</th>\n",
       "      <th>I</th>\n",
       "      <th>T</th>\n",
       "      <th>S</th>\n",
       "      <th></th>\n",
       "    </tr>\n",
       "  </thead>\n",
       "  <tbody>\n",
       "    <tr>\n",
       "      <th>0</th>\n",
       "      <td>0.279314</td>\n",
       "      <td>0.009967</td>\n",
       "      <td>0.018443</td>\n",
       "      <td>0.127305</td>\n",
       "      <td>0.015910</td>\n",
       "      <td>0.230505</td>\n",
       "      <td>0.101167</td>\n",
       "      <td>0.217390</td>\n",
       "    </tr>\n",
       "    <tr>\n",
       "      <th>1</th>\n",
       "      <td>0.275324</td>\n",
       "      <td>0.005757</td>\n",
       "      <td>0.052843</td>\n",
       "      <td>0.138681</td>\n",
       "      <td>0.011681</td>\n",
       "      <td>0.213519</td>\n",
       "      <td>0.088348</td>\n",
       "      <td>0.213848</td>\n",
       "    </tr>\n",
       "    <tr>\n",
       "      <th>2</th>\n",
       "      <td>0.342371</td>\n",
       "      <td>0.025214</td>\n",
       "      <td>0.011143</td>\n",
       "      <td>0.106429</td>\n",
       "      <td>0.020133</td>\n",
       "      <td>0.187486</td>\n",
       "      <td>0.082552</td>\n",
       "      <td>0.224671</td>\n",
       "    </tr>\n",
       "    <tr>\n",
       "      <th>3</th>\n",
       "      <td>0.494500</td>\n",
       "      <td>0.002157</td>\n",
       "      <td>0.002362</td>\n",
       "      <td>0.084952</td>\n",
       "      <td>0.007338</td>\n",
       "      <td>0.178181</td>\n",
       "      <td>0.077519</td>\n",
       "      <td>0.152990</td>\n",
       "    </tr>\n",
       "    <tr>\n",
       "      <th>4</th>\n",
       "      <td>0.356762</td>\n",
       "      <td>0.003114</td>\n",
       "      <td>0.001610</td>\n",
       "      <td>0.112033</td>\n",
       "      <td>0.007086</td>\n",
       "      <td>0.199910</td>\n",
       "      <td>0.088700</td>\n",
       "      <td>0.230786</td>\n",
       "    </tr>\n",
       "  </tbody>\n",
       "</table>\n",
       "</div>"
      ],
      "text/plain": [
       "          H         B         E         G         I         T         S  \\\n",
       "0  0.279314  0.009967  0.018443  0.127305  0.015910  0.230505  0.101167   \n",
       "1  0.275324  0.005757  0.052843  0.138681  0.011681  0.213519  0.088348   \n",
       "2  0.342371  0.025214  0.011143  0.106429  0.020133  0.187486  0.082552   \n",
       "3  0.494500  0.002157  0.002362  0.084952  0.007338  0.178181  0.077519   \n",
       "4  0.356762  0.003114  0.001610  0.112033  0.007086  0.199910  0.088700   \n",
       "\n",
       "             \n",
       "0  0.217390  \n",
       "1  0.213848  \n",
       "2  0.224671  \n",
       "3  0.152990  \n",
       "4  0.230786  "
      ]
     },
     "execution_count": 39,
     "metadata": {},
     "output_type": "execute_result"
    }
   ],
   "source": [
    "n_bins = 5\n",
    "interval = int(trajectory.n_frames / n_bins)\n",
    "distribution_bin = []\n",
    "\n",
    "for i in range(n_bins):\n",
    "    dssp = md.compute_dssp(trajectory[i*interval:(i+1)*interval], simplified=False)\n",
    "    distribution = []\n",
    "    for structure in structures:\n",
    "        count = np.count_nonzero(dssp.flatten() == structure)\n",
    "        distribution.append(count/dssp.flatten().size)\n",
    "    distribution_bin.append(distribution)\n",
    "    \n",
    "dssp_df = pd.DataFrame(distribution_bin, columns=structures)\n",
    "dssp_df"
   ]
  },
  {
   "cell_type": "code",
   "execution_count": 45,
   "metadata": {},
   "outputs": [
    {
     "data": {
      "text/html": [
       "<div>\n",
       "<style scoped>\n",
       "    .dataframe tbody tr th:only-of-type {\n",
       "        vertical-align: middle;\n",
       "    }\n",
       "\n",
       "    .dataframe tbody tr th {\n",
       "        vertical-align: top;\n",
       "    }\n",
       "\n",
       "    .dataframe thead th {\n",
       "        text-align: right;\n",
       "    }\n",
       "</style>\n",
       "<table border=\"1\" class=\"dataframe\">\n",
       "  <thead>\n",
       "    <tr style=\"text-align: right;\">\n",
       "      <th></th>\n",
       "      <th>H</th>\n",
       "      <th>B</th>\n",
       "      <th>E</th>\n",
       "      <th>G</th>\n",
       "      <th>I</th>\n",
       "      <th>T</th>\n",
       "      <th>S</th>\n",
       "      <th></th>\n",
       "      <th>Helix</th>\n",
       "      <th>Beta</th>\n",
       "      <th>Bend</th>\n",
       "      <th>Turn</th>\n",
       "      <th>Coil</th>\n",
       "    </tr>\n",
       "  </thead>\n",
       "  <tbody>\n",
       "    <tr>\n",
       "      <th>0</th>\n",
       "      <td>0.279314</td>\n",
       "      <td>0.009967</td>\n",
       "      <td>0.018443</td>\n",
       "      <td>0.127305</td>\n",
       "      <td>0.015910</td>\n",
       "      <td>0.230505</td>\n",
       "      <td>0.101167</td>\n",
       "      <td>0.217390</td>\n",
       "      <td>0.422529</td>\n",
       "      <td>0.028410</td>\n",
       "      <td>0.101167</td>\n",
       "      <td>0.230505</td>\n",
       "      <td>0.217390</td>\n",
       "    </tr>\n",
       "    <tr>\n",
       "      <th>1</th>\n",
       "      <td>0.275324</td>\n",
       "      <td>0.005757</td>\n",
       "      <td>0.052843</td>\n",
       "      <td>0.138681</td>\n",
       "      <td>0.011681</td>\n",
       "      <td>0.213519</td>\n",
       "      <td>0.088348</td>\n",
       "      <td>0.213848</td>\n",
       "      <td>0.425686</td>\n",
       "      <td>0.058600</td>\n",
       "      <td>0.088348</td>\n",
       "      <td>0.213519</td>\n",
       "      <td>0.213848</td>\n",
       "    </tr>\n",
       "    <tr>\n",
       "      <th>2</th>\n",
       "      <td>0.342371</td>\n",
       "      <td>0.025214</td>\n",
       "      <td>0.011143</td>\n",
       "      <td>0.106429</td>\n",
       "      <td>0.020133</td>\n",
       "      <td>0.187486</td>\n",
       "      <td>0.082552</td>\n",
       "      <td>0.224671</td>\n",
       "      <td>0.468933</td>\n",
       "      <td>0.036357</td>\n",
       "      <td>0.082552</td>\n",
       "      <td>0.187486</td>\n",
       "      <td>0.224671</td>\n",
       "    </tr>\n",
       "    <tr>\n",
       "      <th>3</th>\n",
       "      <td>0.494500</td>\n",
       "      <td>0.002157</td>\n",
       "      <td>0.002362</td>\n",
       "      <td>0.084952</td>\n",
       "      <td>0.007338</td>\n",
       "      <td>0.178181</td>\n",
       "      <td>0.077519</td>\n",
       "      <td>0.152990</td>\n",
       "      <td>0.586790</td>\n",
       "      <td>0.004519</td>\n",
       "      <td>0.077519</td>\n",
       "      <td>0.178181</td>\n",
       "      <td>0.152990</td>\n",
       "    </tr>\n",
       "    <tr>\n",
       "      <th>4</th>\n",
       "      <td>0.356762</td>\n",
       "      <td>0.003114</td>\n",
       "      <td>0.001610</td>\n",
       "      <td>0.112033</td>\n",
       "      <td>0.007086</td>\n",
       "      <td>0.199910</td>\n",
       "      <td>0.088700</td>\n",
       "      <td>0.230786</td>\n",
       "      <td>0.475881</td>\n",
       "      <td>0.004724</td>\n",
       "      <td>0.088700</td>\n",
       "      <td>0.199910</td>\n",
       "      <td>0.230786</td>\n",
       "    </tr>\n",
       "  </tbody>\n",
       "</table>\n",
       "</div>"
      ],
      "text/plain": [
       "          H         B         E         G         I         T         S  \\\n",
       "0  0.279314  0.009967  0.018443  0.127305  0.015910  0.230505  0.101167   \n",
       "1  0.275324  0.005757  0.052843  0.138681  0.011681  0.213519  0.088348   \n",
       "2  0.342371  0.025214  0.011143  0.106429  0.020133  0.187486  0.082552   \n",
       "3  0.494500  0.002157  0.002362  0.084952  0.007338  0.178181  0.077519   \n",
       "4  0.356762  0.003114  0.001610  0.112033  0.007086  0.199910  0.088700   \n",
       "\n",
       "                Helix      Beta      Bend      Turn      Coil  \n",
       "0  0.217390  0.422529  0.028410  0.101167  0.230505  0.217390  \n",
       "1  0.213848  0.425686  0.058600  0.088348  0.213519  0.213848  \n",
       "2  0.224671  0.468933  0.036357  0.082552  0.187486  0.224671  \n",
       "3  0.152990  0.586790  0.004519  0.077519  0.178181  0.152990  \n",
       "4  0.230786  0.475881  0.004724  0.088700  0.199910  0.230786  "
      ]
     },
     "execution_count": 45,
     "metadata": {},
     "output_type": "execute_result"
    }
   ],
   "source": [
    "# 他のシミュレーションとの比較のために変換\n",
    "dssp_df['Helix'] = dssp_df['H'] + dssp_df['G'] + dssp_df['I']\n",
    "dssp_df['Beta'] = dssp_df['B'] + dssp_df['E']\n",
    "dssp_df['Bend'] = dssp_df['S']\n",
    "dssp_df['Turn'] = dssp_df['T']\n",
    "dssp_df['Coil'] = dssp_df[' ']\n",
    "dssp_df"
   ]
  },
  {
   "cell_type": "code",
   "execution_count": 80,
   "metadata": {},
   "outputs": [
    {
     "name": "stdout",
     "output_type": "stream",
     "text": [
      "Helix\n",
      "[0.48932262 0.48853333 0.47772143 0.44825714 0.47598452]\n",
      "Estimate: 0.47596380952380957\n",
      "Error: 0.014880858525418303\n",
      "\n",
      "Beta\n",
      "[0.02605    0.01850238 0.0240631  0.03202262 0.03197143]\n",
      "Estimate: 0.026521904761904764\n",
      "Error: 0.005109527726000365\n",
      "\n",
      "Bend\n",
      "[0.08427976 0.08748452 0.08893333 0.09019167 0.08739643]\n",
      "Estimate: 0.08765714285714285\n",
      "Error: 0.0019777231577975977\n",
      "\n",
      "Turn\n",
      "[0.19477381 0.19902024 0.20552857 0.20785476 0.20242262]\n",
      "Estimate: 0.20192000000000002\n",
      "Error: 0.004646987625433241\n",
      "\n",
      "Coil\n",
      "[0.20557381 0.20645952 0.20375357 0.22167381 0.202225  ]\n",
      "Estimate: 0.20793714285714282\n",
      "Error: 0.0070227567168998535\n",
      "\n"
     ]
    }
   ],
   "source": [
    "estimates_acd = []\n",
    "errors_acd = []\n",
    "for structure in dssp_df.columns[8:]:\n",
    "    means = []\n",
    "    for i in range(n_bins):\n",
    "        means.append(dssp_df.drop(i)[structure].mean())\n",
    "    means = np.array(means)\n",
    "    print(structure)\n",
    "    print(means)\n",
    "    print('Estimate:', means.mean())\n",
    "    print('Error:', means.std())\n",
    "    print()\n",
    "    \n",
    "    estimates_acd.append(means.mean())\n",
    "    errors_acd.append(means.std())"
   ]
  },
  {
   "cell_type": "code",
   "execution_count": 82,
   "metadata": {},
   "outputs": [],
   "source": [
    "import pickle\n",
    "with open('estimates_acd.pickle', mode='wb') as f:\n",
    "    pickle.dump(estimates_acd, f)"
   ]
  },
  {
   "cell_type": "code",
   "execution_count": 83,
   "metadata": {},
   "outputs": [],
   "source": [
    "with open('errors_acd.pickle', mode='wb') as f:\n",
    "    pickle.dump(errors_acd, f)"
   ]
  },
  {
   "cell_type": "code",
   "execution_count": 86,
   "metadata": {},
   "outputs": [
    {
     "data": {
      "image/png": "[encoded data removed]",
      "text/plain": [
       "<Figure size 504x720 with 4 Axes>"
      ]
     },
     "metadata": {},
     "output_type": "display_data"
    }
   ],
   "source": [
    "n_residues = 42\n",
    "dists = []\n",
    "\n",
    "fig, (ax1, ax2, ax3, ax4) = plt.subplots(4, 1, figsize=(7,10))\n",
    "\n",
    "dists.append(((dssp == 'H') | (dssp == 'G') | (dssp == 'I')).mean(axis=0))\n",
    "ax1.bar(range(n_residues), dists[0])\n",
    "\n",
    "dists.append(((dssp == 'E') | (dssp == 'B')).mean(axis=0))\n",
    "ax2.bar(range(n_residues), dists[1])\n",
    "\n",
    "dists.append((dssp == 'S').mean(axis=0))\n",
    "ax3.bar(range(n_residues), dists[2])\n",
    "\n",
    "dists.append((dssp == 'T').mean(axis=0))\n",
    "ax4.bar(range(n_residues), dists[3])\n",
    "\n",
    "# dists = (dssp == ' ').mean(axis=0)\n",
    "# ax5.bar(range(n_residues), dists)\n",
    "\n",
    "plt.show()"
   ]
  },
  {
   "cell_type": "code",
   "execution_count": 89,
   "metadata": {},
   "outputs": [],
   "source": [
    "with open('ss_dists_acd.pickle', mode='wb') as f:\n",
    "    pickle.dump(dists, f)"
   ]
  },
  {
   "cell_type": "code",
   "execution_count": null,
   "metadata": {},
   "outputs": [],
   "source": []
  }
 ],
 "metadata": {
  "kernelspec": {
   "display_name": "Python 3",
   "language": "python",
   "name": "python3"
  },
  "language_info": {
   "codemirror_mode": {
    "name": "ipython",
    "version": 3
   },
   "file_extension": ".py",
   "mimetype": "text/x-python",
   "name": "python",
   "nbconvert_exporter": "python",
   "pygments_lexer": "ipython3",
   "version": "3.7.6"
  }
 },
 "nbformat": 4,
 "nbformat_minor": 4
}
